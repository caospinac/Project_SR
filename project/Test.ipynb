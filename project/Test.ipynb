{
 "cells": [
  {
   "cell_type": "code",
   "execution_count": 1,
   "metadata": {
    "collapsed": true,
    "deletable": true,
    "editable": true
   },
   "outputs": [],
   "source": [
    "import requests\n",
    "from pprint import pprint"
   ]
  },
  {
   "cell_type": "code",
   "execution_count": 2,
   "metadata": {
    "collapsed": false,
    "deletable": true,
    "editable": true
   },
   "outputs": [],
   "source": [
    "def self_link(id):\n",
    "    return \"https://www.googleapis.com/books/v1/volumes/{}\".format(id)"
   ]
  },
  {
   "cell_type": "code",
   "execution_count": 3,
   "metadata": {
    "collapsed": true,
    "deletable": true,
    "editable": true
   },
   "outputs": [],
   "source": [
    "def info_link(id):\n",
    "    return \"http://books.google.com.co/books?id={}\".format(id)"
   ]
  },
  {
   "cell_type": "code",
   "execution_count": 4,
   "metadata": {
    "collapsed": true,
    "deletable": true,
    "editable": true
   },
   "outputs": [],
   "source": [
    "def thumbnail_link(id, edge=False):\n",
    "    return \"http://books.google.com/books/content?\\\n",
    "id={}&printsec=frontcover&img=1&zoom=1&{}source=gbs_api\".format(\n",
    "        id, \"edge=curl&\" if edge else \"\"\n",
    "    )"
   ]
  },
  {
   "cell_type": "code",
   "execution_count": 5,
   "metadata": {
    "collapsed": true,
    "deletable": true,
    "editable": true
   },
   "outputs": [],
   "source": [
    "def download_link(id):\n",
    "    try:\n",
    "        return requests.get(url=self_link(id))[\"volumeInfo\"][\"description\"]\n",
    "    except:\n",
    "        pass"
   ]
  },
  {
   "cell_type": "code",
   "execution_count": 6,
   "metadata": {
    "collapsed": true,
    "deletable": true,
    "editable": true
   },
   "outputs": [],
   "source": [
    "def short_description(text):\n",
    "    if len(text) >= 365:\n",
    "        return text[:365] + \"...\"\n",
    "    return text"
   ]
  },
  {
   "cell_type": "code",
   "execution_count": 11,
   "metadata": {
    "collapsed": false,
    "deletable": true,
    "editable": true
   },
   "outputs": [],
   "source": [
    "def search(query, start_index=0, max_results=40, free_only=True, order_by=\"relevance\"):\n",
    "    res = dict()\n",
    "    parms = {\n",
    "        \"printType\": \"books\",\n",
    "        \"filter\": \"free-ebooks\" if free_only else \"full\",\n",
    "        \"q\": query,\n",
    "        \"startIndex\": start_index,\n",
    "        \"maxResults\": max_results,\n",
    "        \"orderBy\": order_by\n",
    "    }\n",
    "    r = requests.get(\n",
    "        url=\"https://www.googleapis.com/books/v1/volumes\", params=parms\n",
    "    )\n",
    "    rj = r.json()\n",
    "    res.update(dict(query=query, count=rj[\"totalItems\"], items=[]))\n",
    "    for item in rj[\"items\"]:\n",
    "        try:\n",
    "            id = item[\"id\"]\n",
    "            vol_info = item[\"volumeInfo\"]\n",
    "            new = dict(\n",
    "                id=id,\n",
    "                title=vol_info[\"title\"],\n",
    "                subtitle=None,\n",
    "                authors='; '.join(vol_info[\"authors\"]),\n",
    "                short_description=short_description(vol_info[\"description\"]),\n",
    "                categories='; '.join(vol_info[\"categories\"]),\n",
    "                thumbnail_link=thumbnail_link(id),\n",
    "                download_link=None,\n",
    "                description=\"Description is not available\"\n",
    "            )\n",
    "            if \"downloadLink\" in item[\"accessInfo\"][\"pdf\"]:\n",
    "                new[\"download_link\"] = item[\"accessInfo\"][\"pdf\"][\"downloadLink\"]\n",
    "            if \"description\" in item[\"volumeInfo\"]:\n",
    "                new[\"description\"] = item[\"volumeInfo\"][\"description\"]\n",
    "            if \"subtitle\" in item[\"volumeInfo\"]:\n",
    "                new[\"subtitle\"] = item[\"volumeInfo\"][\"subtitle\"]\n",
    "            res[\"items\"].append(new)\n",
    "        except KeyError as e:\n",
    "            pass\n",
    "    return res"
   ]
  },
  {
   "cell_type": "code",
   "execution_count": 12,
   "metadata": {
    "collapsed": false,
    "deletable": true,
    "editable": true
   },
   "outputs": [
    {
     "data": {
      "text/plain": [
       "{'count': 649,\n",
       " 'items': [{'authors': 'Frederick Beasley',\n",
       "   'categories': 'Knowledge, Theory of',\n",
       "   'description': 'Coming down to our own globe, we find our understandings posed by mysteries no less insoluble, in the wonderful process by which dead is converted into living matter, and in what the principle of life itself consists, in the inscrutable structure of our own minds, the mysterious ties by which they are connected to our bodies, the mode of their reciprocal action upon each other, the incomprehensible manner in which feeling, perception, thought and voluntary motion are accomplished. These and many other principles and operations of body and mind, are among the unsearchable arcana of nature, and great and sublime as would be our enjoyment did infinite wisdom think proper to unfold them to us, are, for the present, refused to our most eager curiosity, and perhaps the disclosure of them may be reserved to enhance and invigorate our happiness in a more exalted state of being. Let us not, however, from considering the limited nature of our faculties and the scantiness and imperfection of that knowledge which, with our best exertions, we are able to attain, be discouraged in pushing on, to the utmost extent of our time and opportunities, our philosophical investigations.--(PsycINFO Database Record (c) 2008 APA, all rights reserved).',\n",
       "   'download_link': 'http://books.google.com.co/books/download/A_Search_of_Truth_in_the_Science_of_the.pdf?id=4DYvAAAAYAAJ&hl=&output=pdf&sig=ACfU3U0X26DF547J20-Sh1pbXkF9wTqG_Q&source=gbs_api',\n",
       "   'id': '4DYvAAAAYAAJ',\n",
       "   'short_description': 'Coming down to our own globe, we find our understandings posed by mysteries no less insoluble, in the wonderful process by which dead is converted into living matter, and in what the principle of life itself consists, in the inscrutable structure of our own minds, the mysterious ties by which they are connected to our bodies, the mode of their reciprocal action u...',\n",
       "   'subtitle': 'Part First',\n",
       "   'thumbnail_link': 'http://books.google.com/books/content?id=4DYvAAAAYAAJ&printsec=frontcover&img=1&zoom=1&source=gbs_api',\n",
       "   'title': 'A Search of Truth in the Science of the Human Mind'}],\n",
       " 'query': 'science'}"
      ]
     },
     "execution_count": 12,
     "metadata": {},
     "output_type": "execute_result"
    }
   ],
   "source": [
    "search(\"science\")"
   ]
  },
  {
   "cell_type": "code",
   "execution_count": null,
   "metadata": {
    "collapsed": true,
    "deletable": true,
    "editable": true
   },
   "outputs": [],
   "source": [
    "def book(id):\n",
    "    r = requests.get(url=self_link(id))\n",
    "    return r.json()"
   ]
  },
  {
   "cell_type": "code",
   "execution_count": null,
   "metadata": {
    "collapsed": true,
    "deletable": true,
    "editable": true
   },
   "outputs": [],
   "source": [
    "b = book(\"zPvcHuUMEMwC\")"
   ]
  },
  {
   "cell_type": "code",
   "execution_count": null,
   "metadata": {
    "collapsed": false,
    "deletable": true,
    "editable": true
   },
   "outputs": [],
   "source": [
    "b[\"volumeInfo\"][\"description\"]"
   ]
  },
  {
   "cell_type": "code",
   "execution_count": null,
   "metadata": {
    "collapsed": false,
    "deletable": true,
    "editable": true
   },
   "outputs": [],
   "source": [
    "thumbnail_link(\"2ZXDBdCPIeYC\")"
   ]
  },
  {
   "cell_type": "code",
   "execution_count": null,
   "metadata": {
    "collapsed": false,
    "deletable": true,
    "editable": true,
    "scrolled": false
   },
   "outputs": [],
   "source": [
    "if __name__ == \"__main__\":\n",
    "    pprint(search(\"Computer\"))"
   ]
  },
  {
   "cell_type": "code",
   "execution_count": null,
   "metadata": {
    "collapsed": false,
    "deletable": true,
    "editable": true
   },
   "outputs": [],
   "source": [
    "thumbnail_link(\"2ZXDBdCPIeYC\", True)"
   ]
  },
  {
   "cell_type": "code",
   "execution_count": null,
   "metadata": {
    "collapsed": true,
    "deletable": true,
    "editable": true
   },
   "outputs": [],
   "source": [
    "descr = \"Are there some things we can never think, or know, let alone do? In this fascinating book, acclaimed author John Barrow reveals the often paradoxical limits on knowledge and achievement, and shows that the notion of `impossibility' has played, and continues to play, a striking role in our thinking, and in the way in which we understand the universe and ourselves. - ;What are the true limits of science and human endeavour? The end of each century leads to a stocktaking of human achievement and our expectation about the future. This new book by John D. Barrow looks at what limits there might be to human discovery and what we might find, ultimately, to be unknowable, undoable, or unthinkable. Weaving together a tapestry of surprises, Barrow explores the frontiers of knowledge, taking in surrealism, impossible figures, time travel, paradoxes of logic and perspective, theological speculations about Beings for whom nothing is impossible -- all stimulate us to contemplate something more that what is. With sufficient time and money at our disposal, why should we find anything impossible? Barrow explores the limits that may be imposed upon a full understanding of the physical Universe by constraints of technology, computes, cost, and complexity. He considers how the nature of the universe's structure prevents us from answering the deepest questions about its beginning, its structure, and its future. And he delves into the deep limits imposed by the nature of knowledge itself, which have profound implications for any quest for complete knowledge. They take us into the debates over the problems of free will and consciousness. G--ouml--;del's famous theorem about our inability to capture the truths of mathematics by rules and axioms is explored to see if it has any implications for science. Clearly and engagingly written, and using simple explanations, this book reveals that impossibility is a deep and powerful notion: that any Universe complex enough to contain conscious beings will contain limits on what those beings can know about their Universe: that what we cannot know defines reality as surely as what we can know. Impossibility is a two-edged sword: it threatens the completeness of the scientific enterprise yet without it there would be no laws of Nature, no science, and no scientists. - ;In this illuminating, well-written account of Limits (with capital L), John D. Barrow chronicles and explains the limits of science as a reality-generation mechanism and why it matters.So for about as good an account as you're going to get of where science stops, read this book. It won't tell you any final answer. But the journey is far more interesting - and important - than the destination. - Nature\""
   ]
  },
  {
   "cell_type": "code",
   "execution_count": null,
   "metadata": {
    "collapsed": false,
    "deletable": true,
    "editable": true
   },
   "outputs": [],
   "source": [
    "def short_description(text):\n",
    "    if len(text) >= 365:\n",
    "        return text[:365] + \"...\"\n",
    "    return text"
   ]
  },
  {
   "cell_type": "code",
   "execution_count": null,
   "metadata": {
    "collapsed": false,
    "deletable": true,
    "editable": true
   },
   "outputs": [],
   "source": [
    "short_description(descr)"
   ]
  }
 ],
 "metadata": {
  "anaconda-cloud": {},
  "kernelspec": {
   "display_name": "Python [default]",
   "language": "python",
   "name": "python3"
  },
  "language_info": {
   "codemirror_mode": {
    "name": "ipython",
    "version": 3
   },
   "file_extension": ".py",
   "mimetype": "text/x-python",
   "name": "python",
   "nbconvert_exporter": "python",
   "pygments_lexer": "ipython3",
   "version": "3.5.0"
  }
 },
 "nbformat": 4,
 "nbformat_minor": 1
}
