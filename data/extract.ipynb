{
 "cells": [
  {
   "cell_type": "code",
   "execution_count": null,
   "metadata": {
    "collapsed": true
   },
   "outputs": [],
   "source": [
    "import re\n",
    "from uuid import uuid4\n",
    "\n",
    "import pandas as pd"
   ]
  },
  {
   "cell_type": "code",
   "execution_count": null,
   "metadata": {
    "collapsed": false
   },
   "outputs": [],
   "source": [
    "labs = pd.read_excel('labs_and_products.xlsx', sheetname='labs', na_values='str', keep_default_na=False)\n",
    "products = pd.read_excel('labs_and_products.xlsx', sheetname='products', na_values='str', keep_default_na=False)\n",
    "optimals = pd.read_excel('labs_and_products.xlsx', sheetname='optimals', na_values='str', keep_default_na=False)"
   ]
  },
  {
   "cell_type": "code",
   "execution_count": null,
   "metadata": {
    "collapsed": false
   },
   "outputs": [],
   "source": [
    "labs_record = labs.to_dict(orient='record')"
   ]
  },
  {
   "cell_type": "code",
   "execution_count": null,
   "metadata": {
    "collapsed": false
   },
   "outputs": [],
   "source": [
    "products_record = products.to_dict(orient='record')"
   ]
  },
  {
   "cell_type": "code",
   "execution_count": null,
   "metadata": {
    "collapsed": true
   },
   "outputs": [],
   "source": [
    "def normalize_dict(data):\n",
    "    normalized_values = []\n",
    "    for v in data.values():\n",
    "        normalized_values.append(\n",
    "            re.sub('\\s+', ' ', v.strip())\n",
    "            if type(v) is str else v\n",
    "        )\n",
    "    return dict(zip(data.keys(), normalized_values))"
   ]
  },
  {
   "cell_type": "code",
   "execution_count": null,
   "metadata": {
    "collapsed": false
   },
   "outputs": [],
   "source": [
    "def parse(labs_record, products_record):\n",
    "    labs = []\n",
    "    products = []\n",
    "    for lab in labs_record:\n",
    "        new_lab = lab.copy()\n",
    "        del new_lab['code']\n",
    "        labs.append(normalize_dict(new_lab))\n",
    "        for product in (\n",
    "            product\n",
    "            for product in products_record\n",
    "            if product['lab_code'] == lab['code']\n",
    "        ):\n",
    "            nutrient_set = product.copy()\n",
    "            del nutrient_set['code']\n",
    "            del nutrient_set['lab_code']\n",
    "            fertilizer = {\n",
    "                'name': nutrient_set.pop('name', ''),\n",
    "                'presentation': nutrient_set.pop('presentation', '')\n",
    "            }\n",
    "            products.append((normalize_dict(fertilizer), normalize_dict(nutrient_set)))\n",
    "    return labs, products"
   ]
  },
  {
   "cell_type": "code",
   "execution_count": null,
   "metadata": {
    "collapsed": false
   },
   "outputs": [],
   "source": [
    "l, p = parse(labs_record, products_record)"
   ]
  },
  {
   "cell_type": "code",
   "execution_count": null,
   "metadata": {
    "collapsed": true
   },
   "outputs": [],
   "source": []
  }
 ],
 "metadata": {
  "kernelspec": {
   "display_name": "Python 3",
   "language": "python",
   "name": "python3"
  },
  "language_info": {
   "codemirror_mode": {
    "name": "ipython",
    "version": 3
   },
   "file_extension": ".py",
   "mimetype": "text/x-python",
   "name": "python",
   "nbconvert_exporter": "python",
   "pygments_lexer": "ipython3",
   "version": "3.6.0"
  }
 },
 "nbformat": 4,
 "nbformat_minor": 2
}
