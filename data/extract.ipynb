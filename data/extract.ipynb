{
 "cells": [
  {
   "cell_type": "code",
   "execution_count": null,
   "metadata": {
    "collapsed": true
   },
   "outputs": [],
   "source": [
    "import pandas as pd\n",
    "from uuid import uuid4"
   ]
  },
  {
   "cell_type": "code",
   "execution_count": null,
   "metadata": {
    "collapsed": true
   },
   "outputs": [],
   "source": [
    "labs = pd.read_excel('labs_and_products.xlsx', sheetname='labs')\n",
    "products = pd.read_excel('labs_and_products.xlsx', sheetname='products')\n",
    "optimals = pd.read_excel('labs_and_products.xlsx', sheetname='optimals')"
   ]
  },
  {
   "cell_type": "code",
   "execution_count": null,
   "metadata": {
    "collapsed": false
   },
   "outputs": [],
   "source": [
    "labs_record = labs.to_dict(orient='record')"
   ]
  },
  {
   "cell_type": "code",
   "execution_count": null,
   "metadata": {
    "collapsed": false
   },
   "outputs": [],
   "source": [
    "products_record = products.to_dict(orient='record')"
   ]
  },
  {
   "cell_type": "code",
   "execution_count": null,
   "metadata": {
    "collapsed": true
   },
   "outputs": [],
   "source": [
    "def normalize_dict(data):\n",
    "    normalized_values = []\n",
    "    for v in data.values():\n",
    "        normalized_values.append(v.strip() if type(v) is str else v)\n",
    "    return dict(zip(data.keys(), normalized_values))"
   ]
  },
  {
   "cell_type": "code",
   "execution_count": null,
   "metadata": {
    "collapsed": false
   },
   "outputs": [],
   "source": [
    "normalize_dict({1: 'hola ', 2: ' aa  s '})"
   ]
  },
  {
   "cell_type": "code",
   "execution_count": null,
   "metadata": {
    "collapsed": false
   },
   "outputs": [],
   "source": [
    "def parse():\n",
    "    labs = []\n",
    "    products = []\n",
    "    for lab in labs_record:\n",
    "        new_lab = {'id': uuid4().hex}\n",
    "        new_lab.update(lab.copy())\n",
    "        del new_lab['code']\n",
    "        labs.append(normalize_dict(new_lab))\n",
    "        for product in (product for product in products_record if product['lab_code'] == lab['code']):\n",
    "            new_product = { 'id': uuid4().hex }\n",
    "            new_product.update(product.copy())\n",
    "            new_product['lab'] = new_lab['id']\n",
    "            del new_product['code']\n",
    "            del new_product['lab_code']\n",
    "            products.append(normalize_dict(new_product))\n",
    "    return labs, products"
   ]
  },
  {
   "cell_type": "code",
   "execution_count": null,
   "metadata": {
    "collapsed": false
   },
   "outputs": [],
   "source": [
    "l, p = parse()"
   ]
  },
  {
   "cell_type": "code",
   "execution_count": null,
   "metadata": {
    "collapsed": false
   },
   "outputs": [],
   "source": [
    "l"
   ]
  },
  {
   "cell_type": "code",
   "execution_count": null,
   "metadata": {
    "collapsed": false
   },
   "outputs": [],
   "source": []
  }
 ],
 "metadata": {
  "kernelspec": {
   "display_name": "Python 3",
   "language": "python",
   "name": "python3"
  },
  "language_info": {
   "codemirror_mode": {
    "name": "ipython",
    "version": 3
   },
   "file_extension": ".py",
   "mimetype": "text/x-python",
   "name": "python",
   "nbconvert_exporter": "python",
   "pygments_lexer": "ipython3",
   "version": "3.6.0"
  }
 },
 "nbformat": 4,
 "nbformat_minor": 2
}
